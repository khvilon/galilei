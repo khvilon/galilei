{
 "cells": [
  {
   "cell_type": "markdown",
   "id": "facd44b5-c6f1-46c8-9435-a49b22a6d217",
   "metadata": {},
   "source": [
    "## Цапцарап top-100 университетов в РФ"
   ]
  },
  {
   "cell_type": "markdown",
   "id": "88cb817b-9d0d-46a3-81d8-b4c78f215f96",
   "metadata": {},
   "source": [
    "#### Загрузка страницы"
   ]
  },
  {
   "cell_type": "code",
   "execution_count": 1,
   "id": "0dedc6ba-c6ba-48e3-8cc8-715c1185cb5d",
   "metadata": {},
   "outputs": [
    {
     "data": {
      "text/plain": [
       "<Response [200]>"
      ]
     },
     "execution_count": 1,
     "metadata": {},
     "output_type": "execute_result"
    }
   ],
   "source": [
    "src = \"https://raex-rr.com/pro/education/russian_universities/top-100_universities/2021/\"\n",
    "\n",
    "import requests\n",
    "import faker\n",
    "\n",
    "result = requests.get(src, headers={\"user-agent\": faker.Faker().firefox()})\n",
    "\n",
    "result"
   ]
  },
  {
   "cell_type": "markdown",
   "id": "37dccb17-a0d1-432b-a45a-039100223c6c",
   "metadata": {},
   "source": [
    "### Парсим страницу"
   ]
  },
  {
   "cell_type": "code",
   "execution_count": 2,
   "id": "b81530db-8201-4592-8d0a-f68d8752e17d",
   "metadata": {},
   "outputs": [],
   "source": [
    "import pandas as pd\n",
    "from bs4 import BeautifulSoup\n",
    "from bs4.element import Tag, NavigableString\n",
    "\n",
    "\n",
    "bs = BeautifulSoup(result.text)\n",
    "\n",
    "values = []\n",
    "for r in bs.find_all('a'):\n",
    "    if r[\"href\"].startswith('/database/contender/'):\n",
    "        for ri in r.children:\n",
    "            if type(ri) is Tag:\n",
    "                res = ri.find_all('b')\n",
    "                for r in res:\n",
    "                    values += [r.text]\n",
    "            else:\n",
    "                values += [ri.text]\n",
    "\n",
    "df = pd.DataFrame({\"ВУЗ\": values})\n",
    "df.to_csv(\"../data/universities.csv.gz\", index=False)"
   ]
  },
  {
   "cell_type": "code",
   "execution_count": null,
   "id": "744266a7-491b-4122-bbe7-0045dae4e196",
   "metadata": {},
   "outputs": [],
   "source": []
  },
  {
   "cell_type": "code",
   "execution_count": null,
   "id": "9cf2071a-2ca7-40c1-beda-42599d93189f",
   "metadata": {},
   "outputs": [],
   "source": []
  }
 ],
 "metadata": {
  "kernelspec": {
   "display_name": "Python 3 (ipykernel)",
   "language": "python",
   "name": "python3"
  },
  "language_info": {
   "codemirror_mode": {
    "name": "ipython",
    "version": 3
   },
   "file_extension": ".py",
   "mimetype": "text/x-python",
   "name": "python",
   "nbconvert_exporter": "python",
   "pygments_lexer": "ipython3",
   "version": "3.9.7"
  }
 },
 "nbformat": 4,
 "nbformat_minor": 5
}
